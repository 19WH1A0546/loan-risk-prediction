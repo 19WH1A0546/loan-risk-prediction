{
 "cells": [
  {
   "cell_type": "code",
   "execution_count": 1,
   "metadata": {},
   "outputs": [],
   "source": [
    "import numpy as np\n",
    "import pandas as pd\n",
    "import matplotlib.pyplot as plt\n",
    "import seaborn as sns\n",
    "import warnings\n",
    "warnings.simplefilter(action=\"ignore\", category=FutureWarning)\n",
    "\n",
    "from sklearn.metrics import accuracy_score, confusion_matrix, classification_report\n",
    "from sklearn.model_selection import train_test_split\n",
    "from sklearn.preprocessing import LabelEncoder\n",
    "from sklearn.linear_model import LogisticRegression\n",
    "from sklearn.tree import DecisionTreeClassifier\n",
    "from sklearn.naive_bayes import GaussianNB\n",
    "from sklearn.neighbors import KNeighborsClassifier"
   ]
  },
  {
   "cell_type": "code",
   "execution_count": 2,
   "metadata": {},
   "outputs": [],
   "source": [
    "data = pd.read_csv(\"dataset.csv\")"
   ]
  },
  {
   "cell_type": "code",
   "execution_count": 3,
   "metadata": {},
   "outputs": [
    {
     "data": {
      "text/html": [
       "<div>\n",
       "<style scoped>\n",
       "    .dataframe tbody tr th:only-of-type {\n",
       "        vertical-align: middle;\n",
       "    }\n",
       "\n",
       "    .dataframe tbody tr th {\n",
       "        vertical-align: top;\n",
       "    }\n",
       "\n",
       "    .dataframe thead th {\n",
       "        text-align: right;\n",
       "    }\n",
       "</style>\n",
       "<table border=\"1\" class=\"dataframe\">\n",
       "  <thead>\n",
       "    <tr style=\"text-align: right;\">\n",
       "      <th></th>\n",
       "      <th>Unnamed: 0</th>\n",
       "      <th>Id</th>\n",
       "      <th>Income</th>\n",
       "      <th>Age</th>\n",
       "      <th>Experience</th>\n",
       "      <th>Married/Single</th>\n",
       "      <th>House_Ownership</th>\n",
       "      <th>Car_Ownership</th>\n",
       "      <th>Profession</th>\n",
       "      <th>CITY</th>\n",
       "      <th>STATE</th>\n",
       "      <th>CURRENT_JOB_YRS</th>\n",
       "      <th>CURRENT_HOUSE_YRS</th>\n",
       "      <th>Saving accounts</th>\n",
       "      <th>Checking account</th>\n",
       "      <th>Credit amount</th>\n",
       "      <th>Risk_Flag</th>\n",
       "    </tr>\n",
       "  </thead>\n",
       "  <tbody>\n",
       "    <tr>\n",
       "      <th>0</th>\n",
       "      <td>0</td>\n",
       "      <td>1</td>\n",
       "      <td>1303834</td>\n",
       "      <td>23</td>\n",
       "      <td>3</td>\n",
       "      <td>single</td>\n",
       "      <td>rented</td>\n",
       "      <td>no</td>\n",
       "      <td>Mechanical_engineer</td>\n",
       "      <td>Rewa</td>\n",
       "      <td>Madhya_Pradesh</td>\n",
       "      <td>3</td>\n",
       "      <td>13</td>\n",
       "      <td>NaN</td>\n",
       "      <td>little</td>\n",
       "      <td>1169</td>\n",
       "      <td>0</td>\n",
       "    </tr>\n",
       "    <tr>\n",
       "      <th>1</th>\n",
       "      <td>1</td>\n",
       "      <td>2</td>\n",
       "      <td>7574516</td>\n",
       "      <td>40</td>\n",
       "      <td>10</td>\n",
       "      <td>single</td>\n",
       "      <td>rented</td>\n",
       "      <td>no</td>\n",
       "      <td>Software_Developer</td>\n",
       "      <td>Parbhani</td>\n",
       "      <td>Maharashtra</td>\n",
       "      <td>9</td>\n",
       "      <td>13</td>\n",
       "      <td>little</td>\n",
       "      <td>moderate</td>\n",
       "      <td>5951</td>\n",
       "      <td>0</td>\n",
       "    </tr>\n",
       "    <tr>\n",
       "      <th>2</th>\n",
       "      <td>2</td>\n",
       "      <td>3</td>\n",
       "      <td>3991815</td>\n",
       "      <td>66</td>\n",
       "      <td>4</td>\n",
       "      <td>married</td>\n",
       "      <td>rented</td>\n",
       "      <td>no</td>\n",
       "      <td>Technical_writer</td>\n",
       "      <td>Alappuzha</td>\n",
       "      <td>Kerala</td>\n",
       "      <td>4</td>\n",
       "      <td>10</td>\n",
       "      <td>little</td>\n",
       "      <td>NaN</td>\n",
       "      <td>2096</td>\n",
       "      <td>0</td>\n",
       "    </tr>\n",
       "    <tr>\n",
       "      <th>3</th>\n",
       "      <td>3</td>\n",
       "      <td>4</td>\n",
       "      <td>6256451</td>\n",
       "      <td>41</td>\n",
       "      <td>2</td>\n",
       "      <td>single</td>\n",
       "      <td>rented</td>\n",
       "      <td>yes</td>\n",
       "      <td>Software_Developer</td>\n",
       "      <td>Bhubaneswar</td>\n",
       "      <td>Odisha</td>\n",
       "      <td>2</td>\n",
       "      <td>12</td>\n",
       "      <td>little</td>\n",
       "      <td>little</td>\n",
       "      <td>7882</td>\n",
       "      <td>1</td>\n",
       "    </tr>\n",
       "    <tr>\n",
       "      <th>4</th>\n",
       "      <td>4</td>\n",
       "      <td>5</td>\n",
       "      <td>5768871</td>\n",
       "      <td>47</td>\n",
       "      <td>11</td>\n",
       "      <td>single</td>\n",
       "      <td>rented</td>\n",
       "      <td>no</td>\n",
       "      <td>Civil_servant</td>\n",
       "      <td>Tiruchirappalli[10]</td>\n",
       "      <td>Tamil_Nadu</td>\n",
       "      <td>3</td>\n",
       "      <td>14</td>\n",
       "      <td>little</td>\n",
       "      <td>little</td>\n",
       "      <td>4870</td>\n",
       "      <td>1</td>\n",
       "    </tr>\n",
       "  </tbody>\n",
       "</table>\n",
       "</div>"
      ],
      "text/plain": [
       "   Unnamed: 0  Id   Income  Age  Experience Married/Single House_Ownership  \\\n",
       "0           0   1  1303834   23           3         single          rented   \n",
       "1           1   2  7574516   40          10         single          rented   \n",
       "2           2   3  3991815   66           4        married          rented   \n",
       "3           3   4  6256451   41           2         single          rented   \n",
       "4           4   5  5768871   47          11         single          rented   \n",
       "\n",
       "  Car_Ownership           Profession                 CITY           STATE  \\\n",
       "0            no  Mechanical_engineer                 Rewa  Madhya_Pradesh   \n",
       "1            no   Software_Developer             Parbhani     Maharashtra   \n",
       "2            no     Technical_writer            Alappuzha          Kerala   \n",
       "3           yes   Software_Developer          Bhubaneswar          Odisha   \n",
       "4            no        Civil_servant  Tiruchirappalli[10]      Tamil_Nadu   \n",
       "\n",
       "   CURRENT_JOB_YRS  CURRENT_HOUSE_YRS Saving accounts Checking account  \\\n",
       "0                3                 13             NaN           little   \n",
       "1                9                 13          little         moderate   \n",
       "2                4                 10          little              NaN   \n",
       "3                2                 12          little           little   \n",
       "4                3                 14          little           little   \n",
       "\n",
       "   Credit amount  Risk_Flag  \n",
       "0           1169          0  \n",
       "1           5951          0  \n",
       "2           2096          0  \n",
       "3           7882          1  \n",
       "4           4870          1  "
      ]
     },
     "execution_count": 3,
     "metadata": {},
     "output_type": "execute_result"
    }
   ],
   "source": [
    "data.head()"
   ]
  },
  {
   "cell_type": "code",
   "execution_count": 4,
   "metadata": {},
   "outputs": [],
   "source": [
    "data = data.drop('Unnamed: 0', axis=1)\n",
    "data = data.drop(\"Id\", axis=1)"
   ]
  },
  {
   "cell_type": "code",
   "execution_count": 5,
   "metadata": {},
   "outputs": [
    {
     "data": {
      "text/plain": [
       "(1000, 15)"
      ]
     },
     "execution_count": 5,
     "metadata": {},
     "output_type": "execute_result"
    }
   ],
   "source": [
    "data.shape"
   ]
  },
  {
   "cell_type": "code",
   "execution_count": 6,
   "metadata": {},
   "outputs": [
    {
     "name": "stdout",
     "output_type": "stream",
     "text": [
      "<class 'pandas.core.frame.DataFrame'>\n",
      "RangeIndex: 1000 entries, 0 to 999\n",
      "Data columns (total 15 columns):\n",
      " #   Column             Non-Null Count  Dtype \n",
      "---  ------             --------------  ----- \n",
      " 0   Income             1000 non-null   int64 \n",
      " 1   Age                1000 non-null   int64 \n",
      " 2   Experience         1000 non-null   int64 \n",
      " 3   Married/Single     1000 non-null   object\n",
      " 4   House_Ownership    1000 non-null   object\n",
      " 5   Car_Ownership      1000 non-null   object\n",
      " 6   Profession         1000 non-null   object\n",
      " 7   CITY               1000 non-null   object\n",
      " 8   STATE              1000 non-null   object\n",
      " 9   CURRENT_JOB_YRS    1000 non-null   int64 \n",
      " 10  CURRENT_HOUSE_YRS  1000 non-null   int64 \n",
      " 11  Saving accounts    817 non-null    object\n",
      " 12  Checking account   606 non-null    object\n",
      " 13  Credit amount      1000 non-null   int64 \n",
      " 14  Risk_Flag          1000 non-null   int64 \n",
      "dtypes: int64(7), object(8)\n",
      "memory usage: 117.3+ KB\n"
     ]
    }
   ],
   "source": [
    "data.info()"
   ]
  },
  {
   "cell_type": "code",
   "execution_count": 7,
   "metadata": {},
   "outputs": [
    {
     "data": {
      "text/plain": [
       "Income                 0\n",
       "Age                    0\n",
       "Experience             0\n",
       "Married/Single         0\n",
       "House_Ownership        0\n",
       "Car_Ownership          0\n",
       "Profession             0\n",
       "CITY                   0\n",
       "STATE                  0\n",
       "CURRENT_JOB_YRS        0\n",
       "CURRENT_HOUSE_YRS      0\n",
       "Saving accounts      183\n",
       "Checking account     394\n",
       "Credit amount          0\n",
       "Risk_Flag              0\n",
       "dtype: int64"
      ]
     },
     "execution_count": 7,
     "metadata": {},
     "output_type": "execute_result"
    }
   ],
   "source": [
    "data.isna().sum()"
   ]
  },
  {
   "cell_type": "code",
   "execution_count": 8,
   "metadata": {},
   "outputs": [
    {
     "data": {
      "text/html": [
       "<div>\n",
       "<style scoped>\n",
       "    .dataframe tbody tr th:only-of-type {\n",
       "        vertical-align: middle;\n",
       "    }\n",
       "\n",
       "    .dataframe tbody tr th {\n",
       "        vertical-align: top;\n",
       "    }\n",
       "\n",
       "    .dataframe thead th {\n",
       "        text-align: right;\n",
       "    }\n",
       "</style>\n",
       "<table border=\"1\" class=\"dataframe\">\n",
       "  <thead>\n",
       "    <tr style=\"text-align: right;\">\n",
       "      <th></th>\n",
       "      <th>Income</th>\n",
       "      <th>Age</th>\n",
       "      <th>Experience</th>\n",
       "      <th>CURRENT_JOB_YRS</th>\n",
       "      <th>CURRENT_HOUSE_YRS</th>\n",
       "      <th>Credit amount</th>\n",
       "      <th>Risk_Flag</th>\n",
       "    </tr>\n",
       "  </thead>\n",
       "  <tbody>\n",
       "    <tr>\n",
       "      <th>count</th>\n",
       "      <td>1.000000e+03</td>\n",
       "      <td>1000.000000</td>\n",
       "      <td>1000.000000</td>\n",
       "      <td>1000.000000</td>\n",
       "      <td>1000.000000</td>\n",
       "      <td>1000.000000</td>\n",
       "      <td>1000.000000</td>\n",
       "    </tr>\n",
       "    <tr>\n",
       "      <th>mean</th>\n",
       "      <td>5.019355e+06</td>\n",
       "      <td>50.512000</td>\n",
       "      <td>9.981000</td>\n",
       "      <td>6.308000</td>\n",
       "      <td>12.061000</td>\n",
       "      <td>3271.258000</td>\n",
       "      <td>0.169000</td>\n",
       "    </tr>\n",
       "    <tr>\n",
       "      <th>std</th>\n",
       "      <td>2.896927e+06</td>\n",
       "      <td>17.025561</td>\n",
       "      <td>6.010055</td>\n",
       "      <td>3.725186</td>\n",
       "      <td>1.449614</td>\n",
       "      <td>2822.736876</td>\n",
       "      <td>0.374939</td>\n",
       "    </tr>\n",
       "    <tr>\n",
       "      <th>min</th>\n",
       "      <td>1.031000e+04</td>\n",
       "      <td>21.000000</td>\n",
       "      <td>0.000000</td>\n",
       "      <td>0.000000</td>\n",
       "      <td>10.000000</td>\n",
       "      <td>250.000000</td>\n",
       "      <td>0.000000</td>\n",
       "    </tr>\n",
       "    <tr>\n",
       "      <th>25%</th>\n",
       "      <td>2.482026e+06</td>\n",
       "      <td>36.000000</td>\n",
       "      <td>5.000000</td>\n",
       "      <td>3.000000</td>\n",
       "      <td>11.000000</td>\n",
       "      <td>1365.500000</td>\n",
       "      <td>0.000000</td>\n",
       "    </tr>\n",
       "    <tr>\n",
       "      <th>50%</th>\n",
       "      <td>4.983860e+06</td>\n",
       "      <td>50.000000</td>\n",
       "      <td>10.000000</td>\n",
       "      <td>6.000000</td>\n",
       "      <td>12.000000</td>\n",
       "      <td>2319.500000</td>\n",
       "      <td>0.000000</td>\n",
       "    </tr>\n",
       "    <tr>\n",
       "      <th>75%</th>\n",
       "      <td>7.505453e+06</td>\n",
       "      <td>66.000000</td>\n",
       "      <td>15.000000</td>\n",
       "      <td>9.000000</td>\n",
       "      <td>13.000000</td>\n",
       "      <td>3972.250000</td>\n",
       "      <td>0.000000</td>\n",
       "    </tr>\n",
       "    <tr>\n",
       "      <th>max</th>\n",
       "      <td>9.999180e+06</td>\n",
       "      <td>79.000000</td>\n",
       "      <td>20.000000</td>\n",
       "      <td>14.000000</td>\n",
       "      <td>14.000000</td>\n",
       "      <td>18424.000000</td>\n",
       "      <td>1.000000</td>\n",
       "    </tr>\n",
       "  </tbody>\n",
       "</table>\n",
       "</div>"
      ],
      "text/plain": [
       "             Income          Age   Experience  CURRENT_JOB_YRS  \\\n",
       "count  1.000000e+03  1000.000000  1000.000000      1000.000000   \n",
       "mean   5.019355e+06    50.512000     9.981000         6.308000   \n",
       "std    2.896927e+06    17.025561     6.010055         3.725186   \n",
       "min    1.031000e+04    21.000000     0.000000         0.000000   \n",
       "25%    2.482026e+06    36.000000     5.000000         3.000000   \n",
       "50%    4.983860e+06    50.000000    10.000000         6.000000   \n",
       "75%    7.505453e+06    66.000000    15.000000         9.000000   \n",
       "max    9.999180e+06    79.000000    20.000000        14.000000   \n",
       "\n",
       "       CURRENT_HOUSE_YRS  Credit amount    Risk_Flag  \n",
       "count        1000.000000    1000.000000  1000.000000  \n",
       "mean           12.061000    3271.258000     0.169000  \n",
       "std             1.449614    2822.736876     0.374939  \n",
       "min            10.000000     250.000000     0.000000  \n",
       "25%            11.000000    1365.500000     0.000000  \n",
       "50%            12.000000    2319.500000     0.000000  \n",
       "75%            13.000000    3972.250000     0.000000  \n",
       "max            14.000000   18424.000000     1.000000  "
      ]
     },
     "execution_count": 8,
     "metadata": {},
     "output_type": "execute_result"
    }
   ],
   "source": [
    "data.describe()"
   ]
  },
  {
   "cell_type": "code",
   "execution_count": 9,
   "metadata": {},
   "outputs": [],
   "source": [
    "for col in ['Saving accounts', 'Checking account']:\n",
    "    data[col] = data[col].fillna('none')"
   ]
  },
  {
   "cell_type": "code",
   "execution_count": 10,
   "metadata": {},
   "outputs": [
    {
     "name": "stdout",
     "output_type": "stream",
     "text": [
      "No Risk count =  83.1\n",
      "Risk count =  16.9\n"
     ]
    }
   ],
   "source": [
    "print(\"No Risk count = \", ((data[\"Risk_Flag\"]).value_counts()[0] * 100) / 1000)\n",
    "print(\"Risk count = \", ((data[\"Risk_Flag\"]).value_counts()[1] * 100) / 1000)"
   ]
  },
  {
   "cell_type": "code",
   "execution_count": 11,
   "metadata": {
    "scrolled": true
   },
   "outputs": [
    {
     "name": "stdout",
     "output_type": "stream",
     "text": [
      "Married/Single\n",
      "['single' 'married']\n",
      "House_Ownership\n",
      "['rented' 'norent_noown' 'owned']\n",
      "Car_Ownership\n",
      "['no' 'yes']\n",
      "Risk_Flag\n",
      "[0 1]\n",
      "STATE\n",
      "['Madhya_Pradesh' 'Maharashtra' 'Kerala' 'Odisha' 'Tamil_Nadu' 'Gujarat'\n",
      " 'Rajasthan' 'Telangana' 'Bihar' 'Andhra_Pradesh' 'West_Bengal' 'Haryana'\n",
      " 'Puducherry' 'Karnataka' 'Uttar_Pradesh' 'Himachal_Pradesh' 'Punjab'\n",
      " 'Tripura' 'Uttarakhand' 'Jharkhand' 'Mizoram' 'Assam' 'Jammu_and_Kashmir'\n",
      " 'Delhi' 'Chhattisgarh' 'Chandigarh' 'Uttar_Pradesh[5]' 'Manipur' 'Sikkim']\n",
      "CITY\n",
      "['Rewa' 'Parbhani' 'Alappuzha' 'Bhubaneswar' 'Tiruchirappalli[10]'\n",
      " 'Jalgaon' 'Tiruppur' 'Jamnagar' 'Kota[6]' 'Karimnagar' 'Hajipur[31]'\n",
      " 'Adoni' 'Erode[17]' 'Kollam' 'Madurai' 'Anantapuram[24]' 'Kamarhati'\n",
      " 'Bhusawal' 'Sirsa' 'Amaravati' 'Secunderabad' 'Ahmedabad' 'Ajmer'\n",
      " 'Ongole' 'Miryalaguda' 'Ambattur' 'Indore' 'Pondicherry' 'Shimoga'\n",
      " 'Chennai' 'Gulbarga' 'Khammam' 'Saharanpur' 'Gopalpur' 'Amravati' 'Udupi'\n",
      " 'Howrah' 'Aurangabad[39]' 'Hospet' 'Shimla' 'Khandwa' 'Bidhannagar'\n",
      " 'Bellary' 'Danapur' 'Purnia[26]' 'Bijapur' 'Patiala' 'Malda' 'Sagar'\n",
      " 'Durgapur' 'Junagadh' 'Singrauli' 'Agartala' 'Thanjavur' 'Hindupur'\n",
      " 'Naihati' 'North_Dumdum' 'Panchkula' 'Anantapur' 'Serampore' 'Bathinda'\n",
      " 'Nadiad' 'Kanpur' 'Haridwar' 'Berhampur' 'Jamshedpur' 'Hyderabad' 'Bidar'\n",
      " 'Kottayam' 'Solapur' 'Suryapet' 'Aizawl' 'Asansol' 'Deoghar' 'Eluru[25]'\n",
      " 'Ulhasnagar' 'Aligarh' 'South_Dumdum' 'Berhampore' 'Gandhinagar'\n",
      " 'Sonipat' 'Muzaffarpur' 'Raichur' 'Rajpur_Sonarpur' 'Ambarnath' 'Katihar'\n",
      " 'Kozhikode' 'Vellore' 'Malegaon' 'Kochi' 'Nagaon' 'Nagpur' 'Srinagar'\n",
      " 'Davanagere' 'Bhagalpur' 'Siwan[32]' 'Meerut' 'Dindigul' 'Bhatpara'\n",
      " 'Ghaziabad' 'Kulti' 'Chapra' 'Dibrugarh' 'Panihati' 'Bhiwandi' 'Morbi'\n",
      " 'Kalyan-Dombivli' 'Gorakhpur' 'Panvel' 'Siliguri' 'Bongaigaon' 'Patna'\n",
      " 'Ramgarh' 'Ozhukarai' 'Mirzapur' 'Akola' 'Satna' 'Motihari[34]' 'Jalna'\n",
      " 'Jalandhar' 'Unnao' 'Karnal' 'Cuttack' 'Proddatur' 'Ichalkaranji'\n",
      " 'Warangal[11][12]' 'Jhansi' 'Bulandshahr' 'Narasaraopet' 'Chinsurah'\n",
      " 'Jehanabad[38]' 'Dhanbad' 'Gudivada' 'Gandhidham' 'Raiganj'\n",
      " 'Kishanganj[35]' 'Varanasi' 'Belgaum' 'Tirupati[21][22]' 'Tumkur'\n",
      " 'Coimbatore' 'Kurnool[18]' 'Gurgaon' 'Muzaffarnagar' 'Aurangabad'\n",
      " 'Bhavnagar' 'Arrah' 'Munger' 'Tirunelveli' 'Mumbai' 'Mango' 'Nashik'\n",
      " 'Kadapa[23]' 'Amritsar' 'Khora,_Ghaziabad' 'Ambala' 'Agra' 'Ratlam'\n",
      " 'Surendranagar_Dudhrej' 'Delhi_city' 'Bhopal' 'Hapur' 'Rohtak' 'Durg'\n",
      " 'Korba' 'Bangalore' 'Shivpuri' 'Thrissur' 'Vijayanagaram' 'Farrukhabad'\n",
      " 'Nangloi_Jat' 'Madanapalle' 'Thoothukudi' 'Nagercoil' 'Gaya'\n",
      " 'Chandigarh_city' 'Jammu[16]' 'Kakinada' 'Dewas' 'Bhalswa_Jahangir_Pur'\n",
      " 'Baranagar' 'Firozabad' 'Phusro' 'Allahabad' 'Guna' 'Thane' 'Etawah'\n",
      " 'Vasai-Virar' 'Pallavaram' 'Morena' 'Ballia' 'Surat' 'Burhanpur'\n",
      " 'Phagwara' 'Mau' 'Mangalore' 'Alwar' 'Mahbubnagar' 'Maheshtala'\n",
      " 'Hazaribagh' 'Bihar_Sharif' 'Faridabad' 'Lucknow' 'Tenali' 'Barasat'\n",
      " 'Amroha' 'Giridih' 'Begusarai' 'Medininagar' 'Rajahmundry[19][20]'\n",
      " 'Saharsa[29]' 'New_Delhi' 'Bhilai' 'Moradabad' 'Machilipatnam'\n",
      " 'Mira-Bhayandar' 'Pali' 'Navi_Mumbai' 'Mehsana' 'Imphal' 'Kolkata'\n",
      " 'Sambalpur' 'Ujjain' 'Madhyamgram' 'Jabalpur' 'Jamalpur[36]' 'Ludhiana'\n",
      " 'Bareilly' 'Gangtok' 'Anand' 'Dehradun' 'Pune' 'Satara' 'Srikakulam'\n",
      " 'Raipur' 'Jodhpur' 'Darbhanga' 'Nizamabad' 'Nandyal' 'Dehri[30]' 'Jorhat'\n",
      " 'Ranchi' 'Kumbakonam' 'Guntakal' 'Haldia' 'Loni' 'Pimpri-Chinchwad'\n",
      " 'Rajkot' 'Nanded' 'Noida' 'Kirari_Suleman_Nagar' 'Jaunpur' 'Bilaspur'\n",
      " 'Sambhal' 'Dhule' 'Rourkela' 'Thiruvananthapuram' 'Dharmavaram'\n",
      " 'Nellore[14][15]' 'Visakhapatnam[4]' 'Karawal_Nagar' 'Jaipur' 'Avadi'\n",
      " 'Bhimavaram' 'Bardhaman' 'Silchar' 'Buxar[37]' 'Kavali' 'Tezpur'\n",
      " 'Ramagundam[27]' 'Yamunanagar' 'Sri_Ganganagar' 'Sasaram[30]' 'Sikar'\n",
      " 'Bally' 'Bhiwani' 'Rampur' 'Uluberia' 'Sangli-Miraj_&_Kupwad' 'Hosur'\n",
      " 'Bikaner' 'Shahjahanpur' 'Sultan_Pur_Majra' 'Vijayawada' 'Bharatpur'\n",
      " 'Tadepalligudem' 'Tinsukia' 'Salem' 'Mathura' 'Guntur[13]'\n",
      " 'Hubliâ€“Dharwad' 'Guwahati' 'Chittoor[28]' 'Tiruvottiyur' 'Vadodara'\n",
      " 'Ahmednagar' 'Fatehpur' 'Bhilwara' 'Kharagpur' 'Bettiah[33]' 'Bhind'\n",
      " 'Bokaro' 'Karaikudi' 'Raebareli' 'Pudukkottai' 'Udaipur'\n",
      " 'Mysore[7][8][9]']\n",
      "Profession\n",
      "['Mechanical_engineer' 'Software_Developer' 'Technical_writer'\n",
      " 'Civil_servant' 'Librarian' 'Economist' 'Flight_attendant' 'Architect'\n",
      " 'Designer' 'Physician' 'Financial_Analyst' 'Air_traffic_controller'\n",
      " 'Politician' 'Police_officer' 'Artist' 'Surveyor' 'Design_Engineer'\n",
      " 'Chemical_engineer' 'Hotel_Manager' 'Dentist' 'Comedian'\n",
      " 'Biomedical_Engineer' 'Graphic_Designer' 'Computer_hardware_engineer'\n",
      " 'Petroleum_Engineer' 'Secretary' 'Computer_operator'\n",
      " 'Chartered_Accountant' 'Technician' 'Microbiologist' 'Fashion_Designer'\n",
      " 'Aviator' 'Psychologist' 'Magistrate' 'Lawyer' 'Firefighter' 'Engineer'\n",
      " 'Official' 'Analyst' 'Geologist' 'Drafter' 'Statistician' 'Web_designer'\n",
      " 'Consultant' 'Chef' 'Army_officer' 'Surgeon' 'Scientist' 'Civil_engineer'\n",
      " 'Industrial_Engineer' 'Technology_specialist']\n"
     ]
    }
   ],
   "source": [
    "columns = [\"Married/Single\", \"House_Ownership\", \"Car_Ownership\", \"Risk_Flag\", \"STATE\", \"CITY\", \"Profession\"]\n",
    "for col in columns:\n",
    "    print(col)\n",
    "    print(data[col].unique())"
   ]
  },
  {
   "cell_type": "code",
   "execution_count": 12,
   "metadata": {},
   "outputs": [],
   "source": [
    "data['STATE'] = data['STATE'].replace(['Uttar_Pradesh[5]'], 'Uttar_Pradesh')"
   ]
  },
  {
   "cell_type": "code",
   "execution_count": 13,
   "metadata": {
    "scrolled": true
   },
   "outputs": [
    {
     "data": {
      "image/png": "[encoded data removed]",
      "text/plain": [
       "<Figure size 1080x1440 with 8 Axes>"
      ]
     },
     "metadata": {
      "needs_background": "light"
     },
     "output_type": "display_data"
    }
   ],
   "source": [
    "columns = [\"Experience\",\"Married/Single\", \"House_Ownership\", \"Car_Ownership\", \"CURRENT_JOB_YRS\", \"CURRENT_HOUSE_YRS\", \"Saving accounts\", \"Checking account\"]\n",
    "plt.figure(figsize = (15, 20))\n",
    "for i in enumerate(columns):\n",
    "    plt.subplot(3, 3,i[0]+1)\n",
    "    sns.countplot(i[1], hue = 'Risk_Flag', data = data)\n",
    "    plt.xticks(rotation = 45)"
   ]
  },
  {
   "cell_type": "code",
   "execution_count": 14,
   "metadata": {},
   "outputs": [],
   "source": [
    "#married = 1\n",
    "#car own yes = 1\n",
    "\n",
    "columns_with_positive_values=[\n",
    "            ('Married/Single', 'married'),\n",
    "            ('Car_Ownership', 'yes')\n",
    "        ]\n",
    "for column, positive_value in columns_with_positive_values:\n",
    "        data[column] = data[column].apply(lambda x: 1 if x == positive_value else 0)"
   ]
  },
  {
   "cell_type": "code",
   "execution_count": 15,
   "metadata": {},
   "outputs": [],
   "source": [
    "columns_with_orderings=[\n",
    "            ('Saving accounts', ['none', 'little', 'moderate', 'rich', 'quite rich']),\n",
    "            ('Checking account', ['none', 'little', 'moderate', 'rich']),\n",
    "            ('House_Ownership', ['norent_noown', 'rented', 'owned'])\n",
    "        ]\n",
    "for column, ordering in columns_with_orderings:\n",
    "        data[column] = data[column].apply(lambda x: ordering.index(x))"
   ]
  },
  {
   "cell_type": "code",
   "execution_count": 16,
   "metadata": {
    "scrolled": false
   },
   "outputs": [
    {
     "data": {
      "text/html": [
       "<div>\n",
       "<style scoped>\n",
       "    .dataframe tbody tr th:only-of-type {\n",
       "        vertical-align: middle;\n",
       "    }\n",
       "\n",
       "    .dataframe tbody tr th {\n",
       "        vertical-align: top;\n",
       "    }\n",
       "\n",
       "    .dataframe thead th {\n",
       "        text-align: right;\n",
       "    }\n",
       "</style>\n",
       "<table border=\"1\" class=\"dataframe\">\n",
       "  <thead>\n",
       "    <tr style=\"text-align: right;\">\n",
       "      <th></th>\n",
       "      <th>Income</th>\n",
       "      <th>Age</th>\n",
       "      <th>Experience</th>\n",
       "      <th>Married/Single</th>\n",
       "      <th>House_Ownership</th>\n",
       "      <th>Car_Ownership</th>\n",
       "      <th>Profession</th>\n",
       "      <th>CITY</th>\n",
       "      <th>STATE</th>\n",
       "      <th>CURRENT_JOB_YRS</th>\n",
       "      <th>CURRENT_HOUSE_YRS</th>\n",
       "      <th>Saving accounts</th>\n",
       "      <th>Checking account</th>\n",
       "      <th>Credit amount</th>\n",
       "      <th>Risk_Flag</th>\n",
       "    </tr>\n",
       "  </thead>\n",
       "  <tbody>\n",
       "    <tr>\n",
       "      <th>0</th>\n",
       "      <td>1303834</td>\n",
       "      <td>23</td>\n",
       "      <td>3</td>\n",
       "      <td>0</td>\n",
       "      <td>1</td>\n",
       "      <td>0</td>\n",
       "      <td>Mechanical_engineer</td>\n",
       "      <td>Rewa</td>\n",
       "      <td>Madhya_Pradesh</td>\n",
       "      <td>3</td>\n",
       "      <td>13</td>\n",
       "      <td>0</td>\n",
       "      <td>1</td>\n",
       "      <td>1169</td>\n",
       "      <td>0</td>\n",
       "    </tr>\n",
       "    <tr>\n",
       "      <th>1</th>\n",
       "      <td>7574516</td>\n",
       "      <td>40</td>\n",
       "      <td>10</td>\n",
       "      <td>0</td>\n",
       "      <td>1</td>\n",
       "      <td>0</td>\n",
       "      <td>Software_Developer</td>\n",
       "      <td>Parbhani</td>\n",
       "      <td>Maharashtra</td>\n",
       "      <td>9</td>\n",
       "      <td>13</td>\n",
       "      <td>1</td>\n",
       "      <td>2</td>\n",
       "      <td>5951</td>\n",
       "      <td>0</td>\n",
       "    </tr>\n",
       "    <tr>\n",
       "      <th>2</th>\n",
       "      <td>3991815</td>\n",
       "      <td>66</td>\n",
       "      <td>4</td>\n",
       "      <td>1</td>\n",
       "      <td>1</td>\n",
       "      <td>0</td>\n",
       "      <td>Technical_writer</td>\n",
       "      <td>Alappuzha</td>\n",
       "      <td>Kerala</td>\n",
       "      <td>4</td>\n",
       "      <td>10</td>\n",
       "      <td>1</td>\n",
       "      <td>0</td>\n",
       "      <td>2096</td>\n",
       "      <td>0</td>\n",
       "    </tr>\n",
       "    <tr>\n",
       "      <th>3</th>\n",
       "      <td>6256451</td>\n",
       "      <td>41</td>\n",
       "      <td>2</td>\n",
       "      <td>0</td>\n",
       "      <td>1</td>\n",
       "      <td>1</td>\n",
       "      <td>Software_Developer</td>\n",
       "      <td>Bhubaneswar</td>\n",
       "      <td>Odisha</td>\n",
       "      <td>2</td>\n",
       "      <td>12</td>\n",
       "      <td>1</td>\n",
       "      <td>1</td>\n",
       "      <td>7882</td>\n",
       "      <td>1</td>\n",
       "    </tr>\n",
       "    <tr>\n",
       "      <th>4</th>\n",
       "      <td>5768871</td>\n",
       "      <td>47</td>\n",
       "      <td>11</td>\n",
       "      <td>0</td>\n",
       "      <td>1</td>\n",
       "      <td>0</td>\n",
       "      <td>Civil_servant</td>\n",
       "      <td>Tiruchirappalli[10]</td>\n",
       "      <td>Tamil_Nadu</td>\n",
       "      <td>3</td>\n",
       "      <td>14</td>\n",
       "      <td>1</td>\n",
       "      <td>1</td>\n",
       "      <td>4870</td>\n",
       "      <td>1</td>\n",
       "    </tr>\n",
       "    <tr>\n",
       "      <th>...</th>\n",
       "      <td>...</td>\n",
       "      <td>...</td>\n",
       "      <td>...</td>\n",
       "      <td>...</td>\n",
       "      <td>...</td>\n",
       "      <td>...</td>\n",
       "      <td>...</td>\n",
       "      <td>...</td>\n",
       "      <td>...</td>\n",
       "      <td>...</td>\n",
       "      <td>...</td>\n",
       "      <td>...</td>\n",
       "      <td>...</td>\n",
       "      <td>...</td>\n",
       "      <td>...</td>\n",
       "    </tr>\n",
       "    <tr>\n",
       "      <th>995</th>\n",
       "      <td>6907195</td>\n",
       "      <td>55</td>\n",
       "      <td>5</td>\n",
       "      <td>0</td>\n",
       "      <td>2</td>\n",
       "      <td>0</td>\n",
       "      <td>Police_officer</td>\n",
       "      <td>Dharmavaram</td>\n",
       "      <td>Andhra_Pradesh</td>\n",
       "      <td>3</td>\n",
       "      <td>10</td>\n",
       "      <td>1</td>\n",
       "      <td>0</td>\n",
       "      <td>1736</td>\n",
       "      <td>0</td>\n",
       "    </tr>\n",
       "    <tr>\n",
       "      <th>996</th>\n",
       "      <td>9253093</td>\n",
       "      <td>54</td>\n",
       "      <td>2</td>\n",
       "      <td>0</td>\n",
       "      <td>1</td>\n",
       "      <td>1</td>\n",
       "      <td>Secretary</td>\n",
       "      <td>Danapur</td>\n",
       "      <td>Bihar</td>\n",
       "      <td>2</td>\n",
       "      <td>12</td>\n",
       "      <td>1</td>\n",
       "      <td>1</td>\n",
       "      <td>3857</td>\n",
       "      <td>1</td>\n",
       "    </tr>\n",
       "    <tr>\n",
       "      <th>997</th>\n",
       "      <td>9464966</td>\n",
       "      <td>67</td>\n",
       "      <td>14</td>\n",
       "      <td>0</td>\n",
       "      <td>0</td>\n",
       "      <td>1</td>\n",
       "      <td>Statistician</td>\n",
       "      <td>Tiruppur</td>\n",
       "      <td>Tamil_Nadu</td>\n",
       "      <td>14</td>\n",
       "      <td>10</td>\n",
       "      <td>1</td>\n",
       "      <td>0</td>\n",
       "      <td>804</td>\n",
       "      <td>0</td>\n",
       "    </tr>\n",
       "    <tr>\n",
       "      <th>998</th>\n",
       "      <td>3346084</td>\n",
       "      <td>23</td>\n",
       "      <td>18</td>\n",
       "      <td>0</td>\n",
       "      <td>1</td>\n",
       "      <td>0</td>\n",
       "      <td>Web_designer</td>\n",
       "      <td>Sambalpur</td>\n",
       "      <td>Odisha</td>\n",
       "      <td>6</td>\n",
       "      <td>13</td>\n",
       "      <td>1</td>\n",
       "      <td>1</td>\n",
       "      <td>1845</td>\n",
       "      <td>0</td>\n",
       "    </tr>\n",
       "    <tr>\n",
       "      <th>999</th>\n",
       "      <td>5472585</td>\n",
       "      <td>63</td>\n",
       "      <td>17</td>\n",
       "      <td>1</td>\n",
       "      <td>1</td>\n",
       "      <td>0</td>\n",
       "      <td>Computer_operator</td>\n",
       "      <td>Ramagundam[27]</td>\n",
       "      <td>Telangana</td>\n",
       "      <td>6</td>\n",
       "      <td>11</td>\n",
       "      <td>2</td>\n",
       "      <td>2</td>\n",
       "      <td>4576</td>\n",
       "      <td>0</td>\n",
       "    </tr>\n",
       "  </tbody>\n",
       "</table>\n",
       "<p>1000 rows × 15 columns</p>\n",
       "</div>"
      ],
      "text/plain": [
       "      Income  Age  Experience  Married/Single  House_Ownership  Car_Ownership  \\\n",
       "0    1303834   23           3               0                1              0   \n",
       "1    7574516   40          10               0                1              0   \n",
       "2    3991815   66           4               1                1              0   \n",
       "3    6256451   41           2               0                1              1   \n",
       "4    5768871   47          11               0                1              0   \n",
       "..       ...  ...         ...             ...              ...            ...   \n",
       "995  6907195   55           5               0                2              0   \n",
       "996  9253093   54           2               0                1              1   \n",
       "997  9464966   67          14               0                0              1   \n",
       "998  3346084   23          18               0                1              0   \n",
       "999  5472585   63          17               1                1              0   \n",
       "\n",
       "              Profession                 CITY           STATE  \\\n",
       "0    Mechanical_engineer                 Rewa  Madhya_Pradesh   \n",
       "1     Software_Developer             Parbhani     Maharashtra   \n",
       "2       Technical_writer            Alappuzha          Kerala   \n",
       "3     Software_Developer          Bhubaneswar          Odisha   \n",
       "4          Civil_servant  Tiruchirappalli[10]      Tamil_Nadu   \n",
       "..                   ...                  ...             ...   \n",
       "995       Police_officer          Dharmavaram  Andhra_Pradesh   \n",
       "996            Secretary              Danapur           Bihar   \n",
       "997         Statistician             Tiruppur      Tamil_Nadu   \n",
       "998         Web_designer            Sambalpur          Odisha   \n",
       "999    Computer_operator       Ramagundam[27]       Telangana   \n",
       "\n",
       "     CURRENT_JOB_YRS  CURRENT_HOUSE_YRS  Saving accounts  Checking account  \\\n",
       "0                  3                 13                0                 1   \n",
       "1                  9                 13                1                 2   \n",
       "2                  4                 10                1                 0   \n",
       "3                  2                 12                1                 1   \n",
       "4                  3                 14                1                 1   \n",
       "..               ...                ...              ...               ...   \n",
       "995                3                 10                1                 0   \n",
       "996                2                 12                1                 1   \n",
       "997               14                 10                1                 0   \n",
       "998                6                 13                1                 1   \n",
       "999                6                 11                2                 2   \n",
       "\n",
       "     Credit amount  Risk_Flag  \n",
       "0             1169          0  \n",
       "1             5951          0  \n",
       "2             2096          0  \n",
       "3             7882          1  \n",
       "4             4870          1  \n",
       "..             ...        ...  \n",
       "995           1736          0  \n",
       "996           3857          1  \n",
       "997            804          0  \n",
       "998           1845          0  \n",
       "999           4576          0  \n",
       "\n",
       "[1000 rows x 15 columns]"
      ]
     },
     "execution_count": 16,
     "metadata": {},
     "output_type": "execute_result"
    }
   ],
   "source": [
    "data"
   ]
  },
  {
   "cell_type": "code",
   "execution_count": 17,
   "metadata": {},
   "outputs": [],
   "source": [
    "state = list(data['STATE'].unique())\n",
    "city = list(data['CITY'].unique())\n",
    "profession = list(data['Profession'].unique())"
   ]
  },
  {
   "cell_type": "code",
   "execution_count": 18,
   "metadata": {
    "scrolled": true
   },
   "outputs": [],
   "source": [
    "state.sort()\n",
    "city.sort()\n",
    "profession.sort()"
   ]
  },
  {
   "cell_type": "code",
   "execution_count": 19,
   "metadata": {
    "scrolled": true
   },
   "outputs": [],
   "source": [
    "le = LabelEncoder()\n",
    "\n",
    "category_col = ['Profession', 'CITY', \"STATE\"]\n",
    "mapping_dict = {}\n",
    "for col in category_col:\n",
    "    data[col] = le.fit_transform(data[col])\n",
    "    le_name_mapping = dict(zip(le.classes_,le.transform(le.classes_)))\n",
    "    mapping_dict[col] = le_name_mapping"
   ]
  },
  {
   "cell_type": "code",
   "execution_count": 20,
   "metadata": {
    "scrolled": true
   },
   "outputs": [
    {
     "name": "stdout",
     "output_type": "stream",
     "text": [
      "['Andhra_Pradesh', 'Assam', 'Bihar', 'Chandigarh', 'Chhattisgarh', 'Delhi', 'Gujarat', 'Haryana', 'Himachal_Pradesh', 'Jammu_and_Kashmir', 'Jharkhand', 'Karnataka', 'Kerala', 'Madhya_Pradesh', 'Maharashtra', 'Manipur', 'Mizoram', 'Odisha', 'Puducherry', 'Punjab', 'Rajasthan', 'Sikkim', 'Tamil_Nadu', 'Telangana', 'Tripura', 'Uttar_Pradesh', 'Uttarakhand', 'West_Bengal']\n",
      "[ 0  1  2  3  4  5  6  7  8  9 10 11 12 13 14 15 16 17 18 19 20 21 22 23\n",
      " 24 25 26 27]\n",
      "[1 5]\n",
      "Profession\n",
      "{'Air_traffic_controller': 0, 'Analyst': 1, 'Architect': 2, 'Army_officer': 3, 'Artist': 4, 'Aviator': 5, 'Biomedical_Engineer': 6, 'Chartered_Accountant': 7, 'Chef': 8, 'Chemical_engineer': 9, 'Civil_engineer': 10, 'Civil_servant': 11, 'Comedian': 12, 'Computer_hardware_engineer': 13, 'Computer_operator': 14, 'Consultant': 15, 'Dentist': 16, 'Design_Engineer': 17, 'Designer': 18, 'Drafter': 19, 'Economist': 20, 'Engineer': 21, 'Fashion_Designer': 22, 'Financial_Analyst': 23, 'Firefighter': 24, 'Flight_attendant': 25, 'Geologist': 26, 'Graphic_Designer': 27, 'Hotel_Manager': 28, 'Industrial_Engineer': 29, 'Lawyer': 30, 'Librarian': 31, 'Magistrate': 32, 'Mechanical_engineer': 33, 'Microbiologist': 34, 'Official': 35, 'Petroleum_Engineer': 36, 'Physician': 37, 'Police_officer': 38, 'Politician': 39, 'Psychologist': 40, 'Scientist': 41, 'Secretary': 42, 'Software_Developer': 43, 'Statistician': 44, 'Surgeon': 45, 'Surveyor': 46, 'Technical_writer': 47, 'Technician': 48, 'Technology_specialist': 49, 'Web_designer': 50}\n",
      "CITY\n",
      "{'Adoni': 0, 'Agartala': 1, 'Agra': 2, 'Ahmedabad': 3, 'Ahmednagar': 4, 'Aizawl': 5, 'Ajmer': 6, 'Akola': 7, 'Alappuzha': 8, 'Aligarh': 9, 'Allahabad': 10, 'Alwar': 11, 'Amaravati': 12, 'Ambala': 13, 'Ambarnath': 14, 'Ambattur': 15, 'Amravati': 16, 'Amritsar': 17, 'Amroha': 18, 'Anand': 19, 'Anantapur': 20, 'Anantapuram[24]': 21, 'Arrah': 22, 'Asansol': 23, 'Aurangabad': 24, 'Aurangabad[39]': 25, 'Avadi': 26, 'Ballia': 27, 'Bally': 28, 'Bangalore': 29, 'Baranagar': 30, 'Barasat': 31, 'Bardhaman': 32, 'Bareilly': 33, 'Bathinda': 34, 'Begusarai': 35, 'Belgaum': 36, 'Bellary': 37, 'Berhampore': 38, 'Berhampur': 39, 'Bettiah[33]': 40, 'Bhagalpur': 41, 'Bhalswa_Jahangir_Pur': 42, 'Bharatpur': 43, 'Bhatpara': 44, 'Bhavnagar': 45, 'Bhilai': 46, 'Bhilwara': 47, 'Bhimavaram': 48, 'Bhind': 49, 'Bhiwandi': 50, 'Bhiwani': 51, 'Bhopal': 52, 'Bhubaneswar': 53, 'Bhusawal': 54, 'Bidar': 55, 'Bidhannagar': 56, 'Bihar_Sharif': 57, 'Bijapur': 58, 'Bikaner': 59, 'Bilaspur': 60, 'Bokaro': 61, 'Bongaigaon': 62, 'Bulandshahr': 63, 'Burhanpur': 64, 'Buxar[37]': 65, 'Chandigarh_city': 66, 'Chapra': 67, 'Chennai': 68, 'Chinsurah': 69, 'Chittoor[28]': 70, 'Coimbatore': 71, 'Cuttack': 72, 'Danapur': 73, 'Darbhanga': 74, 'Davanagere': 75, 'Dehradun': 76, 'Dehri[30]': 77, 'Delhi_city': 78, 'Deoghar': 79, 'Dewas': 80, 'Dhanbad': 81, 'Dharmavaram': 82, 'Dhule': 83, 'Dibrugarh': 84, 'Dindigul': 85, 'Durg': 86, 'Durgapur': 87, 'Eluru[25]': 88, 'Erode[17]': 89, 'Etawah': 90, 'Faridabad': 91, 'Farrukhabad': 92, 'Fatehpur': 93, 'Firozabad': 94, 'Gandhidham': 95, 'Gandhinagar': 96, 'Gangtok': 97, 'Gaya': 98, 'Ghaziabad': 99, 'Giridih': 100, 'Gopalpur': 101, 'Gorakhpur': 102, 'Gudivada': 103, 'Gulbarga': 104, 'Guna': 105, 'Guntakal': 106, 'Guntur[13]': 107, 'Gurgaon': 108, 'Guwahati': 109, 'Hajipur[31]': 110, 'Haldia': 111, 'Hapur': 112, 'Haridwar': 113, 'Hazaribagh': 114, 'Hindupur': 115, 'Hospet': 116, 'Hosur': 117, 'Howrah': 118, 'Hubliâ€“Dharwad': 119, 'Hyderabad': 120, 'Ichalkaranji': 121, 'Imphal': 122, 'Indore': 123, 'Jabalpur': 124, 'Jaipur': 125, 'Jalandhar': 126, 'Jalgaon': 127, 'Jalna': 128, 'Jamalpur[36]': 129, 'Jammu[16]': 130, 'Jamnagar': 131, 'Jamshedpur': 132, 'Jaunpur': 133, 'Jehanabad[38]': 134, 'Jhansi': 135, 'Jodhpur': 136, 'Jorhat': 137, 'Junagadh': 138, 'Kadapa[23]': 139, 'Kakinada': 140, 'Kalyan-Dombivli': 141, 'Kamarhati': 142, 'Kanpur': 143, 'Karaikudi': 144, 'Karawal_Nagar': 145, 'Karimnagar': 146, 'Karnal': 147, 'Katihar': 148, 'Kavali': 149, 'Khammam': 150, 'Khandwa': 151, 'Kharagpur': 152, 'Khora,_Ghaziabad': 153, 'Kirari_Suleman_Nagar': 154, 'Kishanganj[35]': 155, 'Kochi': 156, 'Kolkata': 157, 'Kollam': 158, 'Korba': 159, 'Kota[6]': 160, 'Kottayam': 161, 'Kozhikode': 162, 'Kulti': 163, 'Kumbakonam': 164, 'Kurnool[18]': 165, 'Loni': 166, 'Lucknow': 167, 'Ludhiana': 168, 'Machilipatnam': 169, 'Madanapalle': 170, 'Madhyamgram': 171, 'Madurai': 172, 'Mahbubnagar': 173, 'Maheshtala': 174, 'Malda': 175, 'Malegaon': 176, 'Mangalore': 177, 'Mango': 178, 'Mathura': 179, 'Mau': 180, 'Medininagar': 181, 'Meerut': 182, 'Mehsana': 183, 'Mira-Bhayandar': 184, 'Miryalaguda': 185, 'Mirzapur': 186, 'Moradabad': 187, 'Morbi': 188, 'Morena': 189, 'Motihari[34]': 190, 'Mumbai': 191, 'Munger': 192, 'Muzaffarnagar': 193, 'Muzaffarpur': 194, 'Mysore[7][8][9]': 195, 'Nadiad': 196, 'Nagaon': 197, 'Nagercoil': 198, 'Nagpur': 199, 'Naihati': 200, 'Nanded': 201, 'Nandyal': 202, 'Nangloi_Jat': 203, 'Narasaraopet': 204, 'Nashik': 205, 'Navi_Mumbai': 206, 'Nellore[14][15]': 207, 'New_Delhi': 208, 'Nizamabad': 209, 'Noida': 210, 'North_Dumdum': 211, 'Ongole': 212, 'Ozhukarai': 213, 'Pali': 214, 'Pallavaram': 215, 'Panchkula': 216, 'Panihati': 217, 'Panvel': 218, 'Parbhani': 219, 'Patiala': 220, 'Patna': 221, 'Phagwara': 222, 'Phusro': 223, 'Pimpri-Chinchwad': 224, 'Pondicherry': 225, 'Proddatur': 226, 'Pudukkottai': 227, 'Pune': 228, 'Purnia[26]': 229, 'Raebareli': 230, 'Raichur': 231, 'Raiganj': 232, 'Raipur': 233, 'Rajahmundry[19][20]': 234, 'Rajkot': 235, 'Rajpur_Sonarpur': 236, 'Ramagundam[27]': 237, 'Ramgarh': 238, 'Rampur': 239, 'Ranchi': 240, 'Ratlam': 241, 'Rewa': 242, 'Rohtak': 243, 'Rourkela': 244, 'Sagar': 245, 'Saharanpur': 246, 'Saharsa[29]': 247, 'Salem': 248, 'Sambalpur': 249, 'Sambhal': 250, 'Sangli-Miraj_&_Kupwad': 251, 'Sasaram[30]': 252, 'Satara': 253, 'Satna': 254, 'Secunderabad': 255, 'Serampore': 256, 'Shahjahanpur': 257, 'Shimla': 258, 'Shimoga': 259, 'Shivpuri': 260, 'Sikar': 261, 'Silchar': 262, 'Siliguri': 263, 'Singrauli': 264, 'Sirsa': 265, 'Siwan[32]': 266, 'Solapur': 267, 'Sonipat': 268, 'South_Dumdum': 269, 'Sri_Ganganagar': 270, 'Srikakulam': 271, 'Srinagar': 272, 'Sultan_Pur_Majra': 273, 'Surat': 274, 'Surendranagar_Dudhrej': 275, 'Suryapet': 276, 'Tadepalligudem': 277, 'Tenali': 278, 'Tezpur': 279, 'Thane': 280, 'Thanjavur': 281, 'Thiruvananthapuram': 282, 'Thoothukudi': 283, 'Thrissur': 284, 'Tinsukia': 285, 'Tiruchirappalli[10]': 286, 'Tirunelveli': 287, 'Tirupati[21][22]': 288, 'Tiruppur': 289, 'Tiruvottiyur': 290, 'Tumkur': 291, 'Udaipur': 292, 'Udupi': 293, 'Ujjain': 294, 'Ulhasnagar': 295, 'Uluberia': 296, 'Unnao': 297, 'Vadodara': 298, 'Varanasi': 299, 'Vasai-Virar': 300, 'Vellore': 301, 'Vijayanagaram': 302, 'Vijayawada': 303, 'Visakhapatnam[4]': 304, 'Warangal[11][12]': 305, 'Yamunanagar': 306}\n",
      "STATE\n",
      "{'Andhra_Pradesh': 0, 'Assam': 1, 'Bihar': 2, 'Chandigarh': 3, 'Chhattisgarh': 4, 'Delhi': 5, 'Gujarat': 6, 'Haryana': 7, 'Himachal_Pradesh': 8, 'Jammu_and_Kashmir': 9, 'Jharkhand': 10, 'Karnataka': 11, 'Kerala': 12, 'Madhya_Pradesh': 13, 'Maharashtra': 14, 'Manipur': 15, 'Mizoram': 16, 'Odisha': 17, 'Puducherry': 18, 'Punjab': 19, 'Rajasthan': 20, 'Sikkim': 21, 'Tamil_Nadu': 22, 'Telangana': 23, 'Tripura': 24, 'Uttar_Pradesh': 25, 'Uttarakhand': 26, 'West_Bengal': 27}\n"
     ]
    }
   ],
   "source": [
    "le.classes_ = state\n",
    "print(le.classes_)\n",
    "print(le.transform(le.classes_))\n",
    "print(le.transform(['Assam', 'Delhi']))\n",
    "\n",
    "for x in mapping_dict:\n",
    "    print(x)\n",
    "    print(mapping_dict[x])"
   ]
  },
  {
   "cell_type": "code",
   "execution_count": 21,
   "metadata": {},
   "outputs": [
    {
     "data": {
      "image/png": "[encoded data removed]",
      "text/plain": [
       "<Figure size 864x720 with 2 Axes>"
      ]
     },
     "metadata": {
      "needs_background": "light"
     },
     "output_type": "display_data"
    }
   ],
   "source": [
    "plt.figure(figsize=(12, 10))\n",
    "cor = data.corr()\n",
    "sns.heatmap(cor, annot=True, cmap=\"crest\")\n",
    "plt.show()"
   ]
  },
  {
   "cell_type": "code",
   "execution_count": 22,
   "metadata": {
    "scrolled": true
   },
   "outputs": [
    {
     "data": {
      "text/html": [
       "<div>\n",
       "<style scoped>\n",
       "    .dataframe tbody tr th:only-of-type {\n",
       "        vertical-align: middle;\n",
       "    }\n",
       "\n",
       "    .dataframe tbody tr th {\n",
       "        vertical-align: top;\n",
       "    }\n",
       "\n",
       "    .dataframe thead th {\n",
       "        text-align: right;\n",
       "    }\n",
       "</style>\n",
       "<table border=\"1\" class=\"dataframe\">\n",
       "  <thead>\n",
       "    <tr style=\"text-align: right;\">\n",
       "      <th></th>\n",
       "      <th>Income</th>\n",
       "      <th>Age</th>\n",
       "      <th>Experience</th>\n",
       "      <th>Married/Single</th>\n",
       "      <th>House_Ownership</th>\n",
       "      <th>Car_Ownership</th>\n",
       "      <th>Profession</th>\n",
       "      <th>CITY</th>\n",
       "      <th>STATE</th>\n",
       "      <th>CURRENT_JOB_YRS</th>\n",
       "      <th>CURRENT_HOUSE_YRS</th>\n",
       "      <th>Saving accounts</th>\n",
       "      <th>Checking account</th>\n",
       "      <th>Credit amount</th>\n",
       "      <th>Risk_Flag</th>\n",
       "    </tr>\n",
       "  </thead>\n",
       "  <tbody>\n",
       "    <tr>\n",
       "      <th>0</th>\n",
       "      <td>1303834</td>\n",
       "      <td>23</td>\n",
       "      <td>3</td>\n",
       "      <td>0</td>\n",
       "      <td>1</td>\n",
       "      <td>0</td>\n",
       "      <td>33</td>\n",
       "      <td>242</td>\n",
       "      <td>13</td>\n",
       "      <td>3</td>\n",
       "      <td>13</td>\n",
       "      <td>0</td>\n",
       "      <td>1</td>\n",
       "      <td>1169</td>\n",
       "      <td>0</td>\n",
       "    </tr>\n",
       "    <tr>\n",
       "      <th>1</th>\n",
       "      <td>7574516</td>\n",
       "      <td>40</td>\n",
       "      <td>10</td>\n",
       "      <td>0</td>\n",
       "      <td>1</td>\n",
       "      <td>0</td>\n",
       "      <td>43</td>\n",
       "      <td>219</td>\n",
       "      <td>14</td>\n",
       "      <td>9</td>\n",
       "      <td>13</td>\n",
       "      <td>1</td>\n",
       "      <td>2</td>\n",
       "      <td>5951</td>\n",
       "      <td>0</td>\n",
       "    </tr>\n",
       "    <tr>\n",
       "      <th>2</th>\n",
       "      <td>3991815</td>\n",
       "      <td>66</td>\n",
       "      <td>4</td>\n",
       "      <td>1</td>\n",
       "      <td>1</td>\n",
       "      <td>0</td>\n",
       "      <td>47</td>\n",
       "      <td>8</td>\n",
       "      <td>12</td>\n",
       "      <td>4</td>\n",
       "      <td>10</td>\n",
       "      <td>1</td>\n",
       "      <td>0</td>\n",
       "      <td>2096</td>\n",
       "      <td>0</td>\n",
       "    </tr>\n",
       "    <tr>\n",
       "      <th>3</th>\n",
       "      <td>6256451</td>\n",
       "      <td>41</td>\n",
       "      <td>2</td>\n",
       "      <td>0</td>\n",
       "      <td>1</td>\n",
       "      <td>1</td>\n",
       "      <td>43</td>\n",
       "      <td>53</td>\n",
       "      <td>17</td>\n",
       "      <td>2</td>\n",
       "      <td>12</td>\n",
       "      <td>1</td>\n",
       "      <td>1</td>\n",
       "      <td>7882</td>\n",
       "      <td>1</td>\n",
       "    </tr>\n",
       "    <tr>\n",
       "      <th>4</th>\n",
       "      <td>5768871</td>\n",
       "      <td>47</td>\n",
       "      <td>11</td>\n",
       "      <td>0</td>\n",
       "      <td>1</td>\n",
       "      <td>0</td>\n",
       "      <td>11</td>\n",
       "      <td>286</td>\n",
       "      <td>22</td>\n",
       "      <td>3</td>\n",
       "      <td>14</td>\n",
       "      <td>1</td>\n",
       "      <td>1</td>\n",
       "      <td>4870</td>\n",
       "      <td>1</td>\n",
       "    </tr>\n",
       "  </tbody>\n",
       "</table>\n",
       "</div>"
      ],
      "text/plain": [
       "    Income  Age  Experience  Married/Single  House_Ownership  Car_Ownership  \\\n",
       "0  1303834   23           3               0                1              0   \n",
       "1  7574516   40          10               0                1              0   \n",
       "2  3991815   66           4               1                1              0   \n",
       "3  6256451   41           2               0                1              1   \n",
       "4  5768871   47          11               0                1              0   \n",
       "\n",
       "   Profession  CITY  STATE  CURRENT_JOB_YRS  CURRENT_HOUSE_YRS  \\\n",
       "0          33   242     13                3                 13   \n",
       "1          43   219     14                9                 13   \n",
       "2          47     8     12                4                 10   \n",
       "3          43    53     17                2                 12   \n",
       "4          11   286     22                3                 14   \n",
       "\n",
       "   Saving accounts  Checking account  Credit amount  Risk_Flag  \n",
       "0                0                 1           1169          0  \n",
       "1                1                 2           5951          0  \n",
       "2                1                 0           2096          0  \n",
       "3                1                 1           7882          1  \n",
       "4                1                 1           4870          1  "
      ]
     },
     "execution_count": 22,
     "metadata": {},
     "output_type": "execute_result"
    }
   ],
   "source": [
    "data.head()"
   ]
  },
  {
   "cell_type": "code",
   "execution_count": 23,
   "metadata": {},
   "outputs": [],
   "source": [
    "df = data\n",
    "y = df['Risk_Flag'].copy()\n",
    "x = df.drop('Risk_Flag', axis=1).copy()"
   ]
  },
  {
   "cell_type": "code",
   "execution_count": 24,
   "metadata": {},
   "outputs": [],
   "source": [
    "x_train, x_test, y_train, y_test = train_test_split(x, y, train_size=0.7)"
   ]
  },
  {
   "cell_type": "markdown",
   "metadata": {},
   "source": [
    "# Logistic Regression"
   ]
  },
  {
   "cell_type": "code",
   "execution_count": 25,
   "metadata": {},
   "outputs": [],
   "source": [
    "model_lr = LogisticRegression()"
   ]
  },
  {
   "cell_type": "code",
   "execution_count": 26,
   "metadata": {},
   "outputs": [
    {
     "data": {
      "text/plain": [
       "LogisticRegression()"
      ]
     },
     "execution_count": 26,
     "metadata": {},
     "output_type": "execute_result"
    }
   ],
   "source": [
    "model_lr.fit(x_train, y_train)"
   ]
  },
  {
   "cell_type": "code",
   "execution_count": 27,
   "metadata": {},
   "outputs": [
    {
     "data": {
      "text/plain": [
       "81.66666666666667"
      ]
     },
     "execution_count": 27,
     "metadata": {},
     "output_type": "execute_result"
    }
   ],
   "source": [
    "model_lr.score(x_test, y_test)*100"
   ]
  },
  {
   "cell_type": "markdown",
   "metadata": {},
   "source": [
    "# Decision Tree"
   ]
  },
  {
   "cell_type": "code",
   "execution_count": 28,
   "metadata": {},
   "outputs": [],
   "source": [
    "model_dt = DecisionTreeClassifier(criterion = \"gini\", random_state = 100,max_depth=5)"
   ]
  },
  {
   "cell_type": "code",
   "execution_count": 29,
   "metadata": {},
   "outputs": [
    {
     "data": {
      "text/plain": [
       "DecisionTreeClassifier(max_depth=5, random_state=100)"
      ]
     },
     "execution_count": 29,
     "metadata": {},
     "output_type": "execute_result"
    }
   ],
   "source": [
    "model_dt.fit(x_train, y_train)"
   ]
  },
  {
   "cell_type": "code",
   "execution_count": 30,
   "metadata": {},
   "outputs": [
    {
     "data": {
      "text/plain": [
       "76.66666666666667"
      ]
     },
     "execution_count": 30,
     "metadata": {},
     "output_type": "execute_result"
    }
   ],
   "source": [
    "model_dt.score(x_test, y_test)*100"
   ]
  },
  {
   "cell_type": "markdown",
   "metadata": {},
   "source": [
    "# Naive Bayes"
   ]
  },
  {
   "cell_type": "code",
   "execution_count": 31,
   "metadata": {},
   "outputs": [],
   "source": [
    "gnb = GaussianNB()"
   ]
  },
  {
   "cell_type": "code",
   "execution_count": 32,
   "metadata": {},
   "outputs": [
    {
     "data": {
      "text/plain": [
       "GaussianNB()"
      ]
     },
     "execution_count": 32,
     "metadata": {},
     "output_type": "execute_result"
    }
   ],
   "source": [
    "gnb.fit(x_train, y_train)"
   ]
  },
  {
   "cell_type": "code",
   "execution_count": 33,
   "metadata": {},
   "outputs": [
    {
     "data": {
      "text/plain": [
       "81.66666666666667"
      ]
     },
     "execution_count": 33,
     "metadata": {},
     "output_type": "execute_result"
    }
   ],
   "source": [
    "gnb.score(x_test, y_test)*100"
   ]
  },
  {
   "cell_type": "markdown",
   "metadata": {},
   "source": [
    "# KNN"
   ]
  },
  {
   "cell_type": "code",
   "execution_count": 34,
   "metadata": {},
   "outputs": [],
   "source": [
    "knn = KNeighborsClassifier(n_neighbors=10)"
   ]
  },
  {
   "cell_type": "code",
   "execution_count": 35,
   "metadata": {},
   "outputs": [
    {
     "data": {
      "text/plain": [
       "KNeighborsClassifier(n_neighbors=10)"
      ]
     },
     "execution_count": 35,
     "metadata": {},
     "output_type": "execute_result"
    }
   ],
   "source": [
    "knn.fit(x_train, y_train)"
   ]
  },
  {
   "cell_type": "code",
   "execution_count": 36,
   "metadata": {},
   "outputs": [
    {
     "data": {
      "text/plain": [
       "81.0"
      ]
     },
     "execution_count": 36,
     "metadata": {},
     "output_type": "execute_result"
    }
   ],
   "source": [
    "knn.score(x_test, y_test)*100"
   ]
  },
  {
   "cell_type": "code",
   "execution_count": null,
   "metadata": {},
   "outputs": [],
   "source": []
  },
  {
   "cell_type": "code",
   "execution_count": 37,
   "metadata": {},
   "outputs": [],
   "source": [
    "import joblib\n",
    "joblib.dump(knn,'model_joblib_risk')\n",
    "model=joblib.load('model_joblib_risk')\n",
    "from tkinter import *\n",
    "import joblib\n",
    "def show_entry_fields():\n",
    "    p1=int(e1.get())\n",
    "    p2=int(e2.get())\n",
    "    p3=int(e3.get())\n",
    "    p4=int(e4.get())\n",
    "    p5=int(e5.get())\n",
    "    p6=int(e6.get())\n",
    "    k7=str(e7.get())\n",
    "    k8=str(e8.get())\n",
    "    k9=str(e9.get())\n",
    "    p10=int(e10.get())\n",
    "    p11=int(e11.get())\n",
    "    p12=int(e12.get())\n",
    "    p13=int(e13.get())\n",
    "    p14=int(e14.get())\n",
    "    \n",
    "    \n",
    "    le.classes_ = profession\n",
    "    h7 = le.transform([k7])\n",
    "    p7 = h7[0]\n",
    "    le.classes_ = city\n",
    "    h8 = le.transform([k8])\n",
    "    p8 = h8[0]\n",
    "    le.classes_ = state\n",
    "    h9 = le.transform([k9])\n",
    "    p9 = h9[0]\n",
    "    model = joblib.load('model_joblib_risk')\n",
    "    result=model.predict([[p1,p2,p3,p4,p5,p6,p7,p8,p9,p10,p11,p12,p13, p14]])\n",
    "    if result == 0:\n",
    "        Label(master, text=\"No Risk\").grid(row=31)\n",
    "    elif result == 1:\n",
    "        Label(master, text=\"Risk\").grid(row=31)"
   ]
  },
  {
   "cell_type": "code",
   "execution_count": 38,
   "metadata": {},
   "outputs": [],
   "source": [
    "master = Tk()\n",
    "master.title(\"Risk Prediction System\")\n",
    "\n",
    "label = Label(master, text = \"Risk Prediction System\", bg = \"black\", fg = \"white\").grid(row=0,columnspan=2)\n",
    "\n",
    "Label(master, text=\"Enter Income\").grid(row=1)\n",
    "Label(master, text=\"Enter Age\").grid(row=2)\n",
    "Label(master, text=\"Enter Experience\").grid(row=3)\n",
    "Label(master, text=\"Enter Value of Married/Single\").grid(row=4)\n",
    "Label(master, text=\"Enter House Ownership\").grid(row=5)\n",
    "Label(master, text=\"Enter Car Owenership\").grid(row=6)\n",
    "Label(master, text=\"Enter Profession\").grid(row=7)\n",
    "Label(master, text=\"Enter City\").grid(row=8)\n",
    "Label(master, text=\"Enter State\").grid(row=9)\n",
    "Label(master, text=\"Enter Current Job Years\").grid(row=10)\n",
    "Label(master, text=\"Enter Current House years\").grid(row=11)\n",
    "Label(master, text=\"Enter Saving Account\").grid(row=12)\n",
    "Label(master, text=\"Enter Checking Account\").grid(row=13)\n",
    "Label(master, text=\"Enter credit amount\").grid(row=14)\n",
    "\n",
    "e1 = Entry(master)\n",
    "e2 = Entry(master)\n",
    "e3 = Entry(master)\n",
    "e4 = Entry(master)\n",
    "e5 = Entry(master)\n",
    "e6 = Entry(master)\n",
    "e7 = Entry(master)\n",
    "e8 = Entry(master)\n",
    "e9 = Entry(master)\n",
    "e10 = Entry(master)\n",
    "e11 = Entry(master)\n",
    "e12 = Entry(master)\n",
    "e13 = Entry(master)\n",
    "e14 = Entry(master)\n",
    "\n",
    "e1.grid(row=1, column=1)\n",
    "e2.grid(row=2, column=1)\n",
    "e3.grid(row=3, column=1)\n",
    "e4.grid(row=4, column=1)\n",
    "e5.grid(row=5, column=1)\n",
    "e6.grid(row=6, column=1)\n",
    "e7.grid(row=7, column=1)\n",
    "e8.grid(row=8, column=1)\n",
    "e9.grid(row=9, column=1)\n",
    "e10.grid(row=10, column=1)\n",
    "e11.grid(row=11, column=1)\n",
    "e12.grid(row=12, column=1)\n",
    "e13.grid(row=13, column=1)\n",
    "e14.grid(row=14, column=1)\n",
    "\n",
    "Button(master, text='Predict', command=show_entry_fields).grid()\n",
    "mainloop()"
   ]
  },
  {
   "cell_type": "code",
   "execution_count": null,
   "metadata": {},
   "outputs": [],
   "source": []
  },
  {
   "cell_type": "code",
   "execution_count": null,
   "metadata": {},
   "outputs": [],
   "source": []
  },
  {
   "cell_type": "code",
   "execution_count": null,
   "metadata": {},
   "outputs": [],
   "source": []
  },
  {
   "cell_type": "code",
   "execution_count": null,
   "metadata": {},
   "outputs": [],
   "source": []
  }
 ],
 "metadata": {
  "kernelspec": {
   "display_name": "Python 3",
   "language": "python",
   "name": "python3"
  },
  "language_info": {
   "codemirror_mode": {
    "name": "ipython",
    "version": 3
   },
   "file_extension": ".py",
   "mimetype": "text/x-python",
   "name": "python",
   "nbconvert_exporter": "python",
   "pygments_lexer": "ipython3",
   "version": "3.8.5"
  }
 },
 "nbformat": 4,
 "nbformat_minor": 4
}
